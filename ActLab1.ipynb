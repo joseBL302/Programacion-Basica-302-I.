{
  "nbformat": 4,
  "nbformat_minor": 0,
  "metadata": {
    "colab": {
      "provenance": [],
      "authorship_tag": "ABX9TyNunnGNU+4P8h1KpnjloydH",
      "include_colab_link": true
    },
    "kernelspec": {
      "name": "python3",
      "display_name": "Python 3"
    },
    "language_info": {
      "name": "python"
    }
  },
  "cells": [
    {
      "cell_type": "markdown",
      "metadata": {
        "id": "view-in-github",
        "colab_type": "text"
      },
      "source": [
        "<a href=\"https://colab.research.google.com/github/joseBL302/Programacion-Basica-302-I./blob/main/ActLab1.ipynb\" target=\"_parent\"><img src=\"https://colab.research.google.com/assets/colab-badge.svg\" alt=\"Open In Colab\"/></a>"
      ]
    },
    {
      "cell_type": "markdown",
      "source": [
        "actividad de laboratorio de laboratorio 1 imprecion de mensaje"
      ],
      "metadata": {
        "id": "y2iUF8aIxhN2"
      }
    },
    {
      "cell_type": "markdown",
      "source": [
        "PB302_1.cpp programa de bienbenida\n"
      ],
      "metadata": {
        "id": "tAkp6BukmPCb"
      }
    },
    {
      "cell_type": "code",
      "execution_count": 21,
      "metadata": {
        "colab": {
          "base_uri": "https://localhost:8080/"
        },
        "id": "3d6m5ygPll4q",
        "outputId": "41b435df-0a68-4756-b928-85fb8b3fb463"
      },
      "outputs": [
        {
          "output_type": "stream",
          "name": "stdout",
          "text": [
            "Overwriting PB302_1.cpp\n"
          ]
        }
      ],
      "source": [
        "%%writefile PB302_1.cpp\n",
        "//programa pa imprimir mensaje de bienbenida\n",
        "//creado por jose adolfo cruz lopez\n",
        "//Fecha:15/sep/2025\n",
        "//PB302_1.cpp\n",
        "#include <iostream>\n",
        "using namespace std;\n",
        "int main()\n",
        "{\n",
        "  cout<<\"Bienvenidos a programacion basica en c++\\n\";\n",
        "  cout<<\"GRACIAS POR PROGRAMAR EN CLASE\";\n",
        "  return 0;\n",
        "}\n"
      ]
    },
    {
      "cell_type": "code",
      "source": [
        "!g++ PB302_1.cpp -o PB302_1\n",
        "!./PB302_1"
      ],
      "metadata": {
        "id": "vqUHLFuFqBap",
        "outputId": "5352be6e-f784-4213-d712-3d3b0884b46d",
        "colab": {
          "base_uri": "https://localhost:8080/"
        }
      },
      "execution_count": 22,
      "outputs": [
        {
          "output_type": "stream",
          "name": "stdout",
          "text": [
            "Bienvenidos a programacion basica en c++\n",
            "GRACIAS POR PROGRAMAR EN CLASE"
          ]
        }
      ]
    }
  ]
}