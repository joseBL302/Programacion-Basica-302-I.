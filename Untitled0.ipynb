{
  "nbformat": 4,
  "nbformat_minor": 0,
  "metadata": {
    "colab": {
      "provenance": [],
      "authorship_tag": "ABX9TyOALF3TC222xm5tRsKan1C9",
      "include_colab_link": true
    },
    "kernelspec": {
      "name": "python3",
      "display_name": "Python 3"
    },
    "language_info": {
      "name": "python"
    }
  },
  "cells": [
    {
      "cell_type": "markdown",
      "metadata": {
        "id": "view-in-github",
        "colab_type": "text"
      },
      "source": [
        "<a href=\"https://colab.research.google.com/github/joseBL302/Programacion-Basica-302-I./blob/main/Untitled0.ipynb\" target=\"_parent\"><img src=\"https://colab.research.google.com/assets/colab-badge.svg\" alt=\"Open In Colab\"/></a>"
      ]
    },
    {
      "cell_type": "markdown",
      "source": [
        "PB302_2cpp Programacion"
      ],
      "metadata": {
        "id": "XiMcBH0crFFS"
      }
    },
    {
      "cell_type": "code",
      "execution_count": 10,
      "metadata": {
        "colab": {
          "base_uri": "https://localhost:8080/"
        },
        "id": "9j0MqyJIqqy2",
        "outputId": "31d9a323-f969-437d-fd8e-7edf14a80ba0"
      },
      "outputs": [
        {
          "output_type": "stream",
          "name": "stdout",
          "text": [
            "Overwriting PB302_2.cpp\n"
          ]
        }
      ],
      "source": [
        "%%writefile PB302_2.cpp\n",
        "//Programa para mostrar datos personales\n",
        "// creado por jose adolfo cruz lopez\n",
        "//Fecha:18/sep/25\n",
        "//PB302_2.cpp\n",
        "#include <iostream>\n",
        "using namespace std;\n",
        "int main ()\n",
        "{\n",
        "  char nombre [8]=\"Jose\";\n",
        "  char paterno [8]= \"cruz\";\n",
        "  char materno [8]=\"lopez\";\n",
        "  int edad=16;\n",
        "  char direccion [40]=\"estaño 2045\";\n",
        "  char fechanac [15]=\"12/6/2009\";\n",
        "  char ciudad [25]=\"ciudad juarez\";\n",
        "\n",
        "  cout<< \"Tu nombre completo es:\\n\";\n",
        "  cout<<nombre<<\"\\n\";\n",
        "  cout<<paterno<<\"\\n\";\n",
        "  cout<<materno<<\"\\n\";\n",
        "  cout<<edad<<\"\\n\";\n",
        "  cout<<direccion<<\"\\n\";\n",
        "  cout<<fechanac<<\"\\n\";\n",
        "  cout<<ciudad<<\"\\n\";\n",
        "  return 0;\n",
        "}\n"
      ]
    },
    {
      "cell_type": "code",
      "source": [
        "!g++ PB302_2.cpp -o PB302_2.exe\n",
        "!./PB302_2.exe"
      ],
      "metadata": {
        "colab": {
          "base_uri": "https://localhost:8080/"
        },
        "id": "J2tyNBYlw1WH",
        "outputId": "3c33542a-3a97-4066-d871-35b1c8f87927"
      },
      "execution_count": 11,
      "outputs": [
        {
          "output_type": "stream",
          "name": "stdout",
          "text": [
            "Tu nombre completo es:\n",
            "Jose\n",
            "cruz\n",
            "lopez\n",
            "16\n",
            "estaño 2045\n",
            "12/6/2009\n",
            "ciudad juarez\n"
          ]
        }
      ]
    }
  ]
}